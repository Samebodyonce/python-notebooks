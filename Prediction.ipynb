{
 "cells": [
  {
   "cell_type": "code",
   "execution_count": null,
   "id": "6ce2f9af",
   "metadata": {},
   "outputs": [],
   "source": [
    "import numpy as np\n",
    "from sklearn.linear_model import LinearRegression\n",
    "\n",
    "x = np.array([0.5, 0.75, 1.00, 1.50, 4.00]).reshape((-1, 1))\n",
    "y = np.array([2.50, 4.50, 6.00, 10.0, 14.0])\n",
    "\n",
    "model = LinearRegression().fit(x, y) \n",
    "\n",
    "r_sq = model.score(x, y)\n",
    "print('coefficient of determination:', r_sq)\n",
    "\n",
    "print('intercept:', model.intercept_)\n",
    "\n",
    "y_pred = model.predict(np.array([[2.00]])).reshape((-1, 1))\n",
    "print('Predicted response:', model.predict([[2.00]]), sep='\\n')"
   ]
  },
  {
   "cell_type": "code",
   "execution_count": null,
   "id": "8b9c9fdb",
   "metadata": {},
   "outputs": [],
   "source": [
    "list1 = []\n",
    "while True:\n",
    "    num = input(\"Enter a number: \")\n",
    "    if num == \"done\":\n",
    "        break\n",
    "    \n",
    "    if num.isdigit():\n",
    "        list1.append(num)\n",
    "    else:\n",
    "        try:\n",
    "            print(\"Invalid input\")\n",
    "        except:\n",
    "            type(num) != int\n",
    "    \n",
    "list1 = list(map(int, list1))\n",
    "largest = max(list1)\n",
    "smallest = min(list1)\n",
    "print(\"Maximum is \", largest)\n",
    "print(\"Minimum is \", smallest)"
   ]
  },
  {
   "cell_type": "code",
   "execution_count": null,
   "id": "dccbb2f9",
   "metadata": {},
   "outputs": [],
   "source": []
  }
 ],
 "metadata": {
  "kernelspec": {
   "display_name": "Python 3 (ipykernel)",
   "language": "python",
   "name": "python3"
  },
  "language_info": {
   "codemirror_mode": {
    "name": "ipython",
    "version": 3
   },
   "file_extension": ".py",
   "mimetype": "text/x-python",
   "name": "python",
   "nbconvert_exporter": "python",
   "pygments_lexer": "ipython3",
   "version": "3.9.7"
  }
 },
 "nbformat": 4,
 "nbformat_minor": 5
}
